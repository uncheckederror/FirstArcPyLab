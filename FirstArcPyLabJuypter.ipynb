{
 "cells": [
  {
   "cell_type": "code",
   "execution_count": null,
   "metadata": {
    "collapsed": true
   },
   "outputs": [],
   "source": [
    "#Script for Lab 1\n",
    "#By Thomas Ryan\n",
    "#For Geog 458\n",
    "\n",
    "#Import modules\n",
    "import arcpy\n",
    "import sys\n",
    "import os\n",
    "sys.path.append('C:\\\\Program Files (x86)\\\\ArcGIS\\\\Desktop10.3\\\\bin')\n",
    "sys.path.append('C:\\\\Program Files (x86)\\\\ArcGIS\\\\Desktop10.3\\\\arcpy')\n",
    "sys.path.append('C:\\\\Program Files (x86)\\\\ArcGIS\\\\Desktop10.3\\\\ArcToolbox\\\\Scripts')\n",
    "\n",
    "#Set workspace and grab input files\n",
    "from arcpy import env\n",
    "\n",
    "#Single varible for changing path names\n",
    "\n",
    "workspace = r\"C:\\Users\\Thomas\\Downloads\\\\"\n",
    "\n",
    "env.workspace = workspace\n",
    "env.overwriteOutput = True\n",
    "input_shapefile = workspace + \"saep_bg10.shp\"\n",
    "input_table = workspace + \"WashingtonFIPS.dbf\"\n",
    "\n",
    "#Shapefile to GeoJSON conversion\n",
    "from subprocess import call\n",
    "os.environ[\"GDAL_DATA\"] = \"C:\\\\OSGeo4W\\\\share\\\\gdal\"\n",
    "os.environ[\"GDAL_DRIVER_PATH\"] = \"C:\\\\OSGeo4W\\\\bin\\\\gdalplugins\"\n",
    "os.environ[\"PROJ_LIB\"] = \"C:\\\\OSGeo4W\\\\share\\\\proj\"\n",
    "os.environ[\"PATH\"] = \"C:\\\\OSGeo4W\\\\bin;\"+os.environ[\"PATH\"]+\";C:\\\\OSGeo4W\\\\apps\\\\msys\\\\bin;C:\\\\OSGeo4W\\\\apps\\\\Python27\\\\Scripts\"\n",
    "\n",
    "#Create cursor and list\n",
    "table_cursor = arcpy.da.UpdateCursor(input_table,[\"CountyName\", \"FIPSCounty\"])\n",
    "countypoplist = []\n",
    "\n",
    "#Create GeoJSON files for each county containing only FIPS matched blocks\n",
    "for cur_FIPS in table_cursor:\n",
    "    \n",
    "    cur_shapefile = arcpy.CopyFeatures_management(str(input_shapefile), str(cur_FIPS[0]) + \".shp\")\n",
    "    arcpy.AddField_management(cur_shapefile, \"CountyName\", \"TEXT\", \"\")\n",
    "    shapefile_cursor = arcpy.da.UpdateCursor(cur_shapefile,[\"COUNTYFP10\",\"POP2013\",\"FID\", \"CountyName\"])\n",
    "    countypop = 0\n",
    "    \n",
    "    for cur_row in shapefile_cursor:\n",
    "        if cur_row[0] == cur_FIPS[1]:\n",
    "            cur_row[3] = cur_FIPS[0]\n",
    "            countypop += cur_row[1]\n",
    "        elif cur_row[0] != cur_FIPS[1]:\n",
    "            shapefile_cursor.deleteRow()\n",
    "            \n",
    "    GeoJSONoutputfile = workspace + str(cur_FIPS[0]) + \".geojson\"    \n",
    "    cur_list = [int(countypop), str(cur_FIPS[0])] \n",
    "    print cur_list\n",
    "    countypoplist.append(cur_list)                  \n",
    "    call(['C:\\\\OSGeo4W\\\\bin\\\\ogr2ogr','-f','GeoJSON','-t_srs','WGS84','-s_srs','EPSG:26913',\n",
    "          GeoJSONoutputfile,\n",
    "          cur_shapefile])\n",
    "    del shapefile_cursor\n",
    "    \n",
    "del table_cursor\n",
    "\n",
    "#Sort and print county population values\n",
    "countypoplist = sorted(countypoplist, reverse=True)\n",
    "print \"A list of top 10 most populated county's in Washington:\"\n",
    "i = 0\n",
    "while i < 10:\n",
    "    print \"%s: %s\" % (countypoplist[i][1], countypoplist[i][0])\n",
    "    i += 1\n"
   ]
  },
  {
   "cell_type": "markdown",
   "metadata": {},
   "source": [
    "I had a lot of problems with this script because of platform inconsistencies and my own mistakes. I don't understand dictionaries in python well enough to use them so instead I made a 2D list. Lots of trial and error. This script is also rather slow. To make it faster I would rewrite it so that it would perform operations of similar types like file create and geojson conversion at the same time rather than in the serial way they are done now. This is bascially an issue with the way I've conceptualize this script. I did what would have made sense for constructing these counties individually, not as a batch like I should have. "
   ]
  }
 ],
 "metadata": {
  "kernelspec": {
   "display_name": "Python 2",
   "language": "python",
   "name": "python2"
  },
  "language_info": {
   "codemirror_mode": {
    "name": "ipython",
    "version": 2
   },
   "file_extension": ".py",
   "mimetype": "text/x-python",
   "name": "python",
   "nbconvert_exporter": "python",
   "pygments_lexer": "ipython2",
   "version": "2.7.10"
  }
 },
 "nbformat": 4,
 "nbformat_minor": 0
}
